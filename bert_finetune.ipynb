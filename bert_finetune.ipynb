{
 "cells": [
  {
   "cell_type": "code",
   "execution_count": 2,
   "metadata": {},
   "outputs": [],
   "source": [
    "from datasets import load_dataset as lds\n",
    "from transformers import AutoTokenizer, AutoModelForSequenceClassification\n",
    "from torch.utils.data import DataLoader\n",
    "from sklearn.metrics import accuracy_score, f1_score\n",
    "import torch\n",
    "from tqdm import tqdm\n",
    "import numpy as np\n",
    "from dataset.loader import ContractNLIExample\n",
    "import json"
   ]
  },
  {
   "cell_type": "code",
   "execution_count": 3,
   "metadata": {},
   "outputs": [
    {
     "name": "stderr",
     "output_type": "stream",
     "text": [
      "c:\\Users\\tanve\\AppData\\Local\\Programs\\Python\\Python39\\lib\\site-packages\\huggingface_hub\\file_download.py:1142: FutureWarning: `resume_download` is deprecated and will be removed in version 1.0.0. Downloads always resume when possible. If you want to force a new download, use `force_download=True`.\n",
      "  warnings.warn(\n"
     ]
    },
    {
     "data": {
      "application/vnd.jupyter.widget-view+json": {
       "model_id": "3000dc267f2f4099bd4768f2c7590077",
       "version_major": 2,
       "version_minor": 0
      },
      "text/plain": [
       "tokenizer_config.json:   0%|          | 0.00/48.0 [00:00<?, ?B/s]"
      ]
     },
     "metadata": {},
     "output_type": "display_data"
    },
    {
     "name": "stderr",
     "output_type": "stream",
     "text": [
      "c:\\Users\\tanve\\AppData\\Local\\Programs\\Python\\Python39\\lib\\site-packages\\huggingface_hub\\file_download.py:147: UserWarning: `huggingface_hub` cache-system uses symlinks by default to efficiently store duplicated files but your machine does not support them in C:\\Users\\tanve\\.cache\\huggingface\\hub\\models--textattack--bert-base-uncased-MNLI. Caching files will still work but in a degraded version that might require more space on your disk. This warning can be disabled by setting the `HF_HUB_DISABLE_SYMLINKS_WARNING` environment variable. For more details, see https://huggingface.co/docs/huggingface_hub/how-to-cache#limitations.\n",
      "To support symlinks on Windows, you either need to activate Developer Mode or to run Python as an administrator. In order to activate developer mode, see this article: https://docs.microsoft.com/en-us/windows/apps/get-started/enable-your-device-for-development\n",
      "  warnings.warn(message)\n"
     ]
    },
    {
     "data": {
      "application/vnd.jupyter.widget-view+json": {
       "model_id": "33dcc2424ef14149bcffa5c50ac0c8fe",
       "version_major": 2,
       "version_minor": 0
      },
      "text/plain": [
       "config.json:   0%|          | 0.00/630 [00:00<?, ?B/s]"
      ]
     },
     "metadata": {},
     "output_type": "display_data"
    },
    {
     "data": {
      "application/vnd.jupyter.widget-view+json": {
       "model_id": "5d12db44c4e9458d80e93ed57ad3899a",
       "version_major": 2,
       "version_minor": 0
      },
      "text/plain": [
       "vocab.txt:   0%|          | 0.00/232k [00:00<?, ?B/s]"
      ]
     },
     "metadata": {},
     "output_type": "display_data"
    },
    {
     "data": {
      "application/vnd.jupyter.widget-view+json": {
       "model_id": "117fdf23ac454c3781e4bf7c5dfce2dd",
       "version_major": 2,
       "version_minor": 0
      },
      "text/plain": [
       "special_tokens_map.json:   0%|          | 0.00/112 [00:00<?, ?B/s]"
      ]
     },
     "metadata": {},
     "output_type": "display_data"
    },
    {
     "name": "stderr",
     "output_type": "stream",
     "text": [
      "c:\\Users\\tanve\\AppData\\Local\\Programs\\Python\\Python39\\lib\\site-packages\\transformers\\utils\\generic.py:260: UserWarning: torch.utils._pytree._register_pytree_node is deprecated. Please use torch.utils._pytree.register_pytree_node instead.\n",
      "  torch.utils._pytree._register_pytree_node(\n",
      "c:\\Users\\tanve\\AppData\\Local\\Programs\\Python\\Python39\\lib\\site-packages\\transformers\\utils\\generic.py:260: UserWarning: torch.utils._pytree._register_pytree_node is deprecated. Please use torch.utils._pytree.register_pytree_node instead.\n",
      "  torch.utils._pytree._register_pytree_node(\n",
      "c:\\Users\\tanve\\AppData\\Local\\Programs\\Python\\Python39\\lib\\site-packages\\huggingface_hub\\file_download.py:1142: FutureWarning: `resume_download` is deprecated and will be removed in version 1.0.0. Downloads always resume when possible. If you want to force a new download, use `force_download=True`.\n",
      "  warnings.warn(\n"
     ]
    },
    {
     "data": {
      "application/vnd.jupyter.widget-view+json": {
       "model_id": "3a7f44c5e624430592f7756d5fcf9025",
       "version_major": 2,
       "version_minor": 0
      },
      "text/plain": [
       "pytorch_model.bin:   0%|          | 0.00/438M [00:00<?, ?B/s]"
      ]
     },
     "metadata": {},
     "output_type": "display_data"
    }
   ],
   "source": [
    "# Load dataset and model\n",
    "dataset = ContractNLIExample.load(json.load(open('../dataset/contract-nli/dev.json','r')))\n",
    "model_name = \"textattack/bert-base-uncased-MNLI\"\n",
    "tokenizer = AutoTokenizer.from_pretrained(model_name)\n",
    "model = AutoModelForSequenceClassification.from_pretrained(model_name)\n"
   ]
  },
  {
   "cell_type": "code",
   "execution_count": 5,
   "metadata": {},
   "outputs": [],
   "source": [
    "ds = lds(\"snli\")\n",
    "# Filter out examples with label -1\n",
    "ds = ds.filter(lambda example: example['label'] != -1)"
   ]
  },
  {
   "cell_type": "code",
   "execution_count": null,
   "metadata": {},
   "outputs": [],
   "source": []
  },
  {
   "cell_type": "code",
   "execution_count": 6,
   "metadata": {},
   "outputs": [
    {
     "data": {
      "application/vnd.jupyter.widget-view+json": {
       "model_id": "752b6ef7d7fd4cc98981f8c92bc7d3d8",
       "version_major": 2,
       "version_minor": 0
      },
      "text/plain": [
       "Map:   0%|          | 0/9824 [00:00<?, ? examples/s]"
      ]
     },
     "metadata": {},
     "output_type": "display_data"
    },
    {
     "data": {
      "application/vnd.jupyter.widget-view+json": {
       "model_id": "d70b322398034fc09e3383a0eb9dd0cf",
       "version_major": 2,
       "version_minor": 0
      },
      "text/plain": [
       "Map:   0%|          | 0/9842 [00:00<?, ? examples/s]"
      ]
     },
     "metadata": {},
     "output_type": "display_data"
    },
    {
     "data": {
      "application/vnd.jupyter.widget-view+json": {
       "model_id": "523a58adcc9e49cea921dfbe525a1905",
       "version_major": 2,
       "version_minor": 0
      },
      "text/plain": [
       "Map:   0%|          | 0/549367 [00:00<?, ? examples/s]"
      ]
     },
     "metadata": {},
     "output_type": "display_data"
    }
   ],
   "source": [
    "def tokenize_function(examples):\n",
    "    # Tokenize the inputs\n",
    "    tokenized = tokenizer(\n",
    "        examples[\"premise\"],\n",
    "        examples[\"hypothesis\"],\n",
    "        padding=\"max_length\",\n",
    "        truncation=True,\n",
    "    )\n",
    "    \n",
    "    # Remap labels to match the model's expected label mapping\n",
    "    # Model's label mapping: 0 - contradiction, 1 - neutral, 2 - entailment\n",
    "    # Original labels: 0 - entailment, 1 - neutral, 2 - contradiction\n",
    "    label_remap = {0: 2, 1: 1, 2: 0}  # From initial labels to model labels\n",
    "    tokenized[\"labels\"] = [label_remap[label] for label in examples[\"label\"]]\n",
    "    return tokenized\n",
    "\n",
    "tokenized_ds = ds.map(tokenize_function, batched=True)\n",
    "tokenized_ds.set_format(\"torch\", columns=['input_ids', 'attention_mask', 'labels'])"
   ]
  },
  {
   "cell_type": "code",
   "execution_count": 7,
   "metadata": {},
   "outputs": [],
   "source": [
    "# Create DataLoader\n",
    "test_dataset = tokenized_ds[\"test\"]\n",
    "test_dataloader = DataLoader(test_dataset, batch_size=16)"
   ]
  },
  {
   "cell_type": "code",
   "execution_count": 8,
   "metadata": {},
   "outputs": [],
   "source": [
    "def evaluate(model, dataloader, original_dataset):\n",
    "    model.eval()\n",
    "    device = torch.device(\"cuda\" if torch.cuda.is_available() else \"cpu\")\n",
    "    model.to(device)\n",
    "    \n",
    "    all_predictions = []\n",
    "    all_labels = []\n",
    "    \n",
    "    # Model's label mapping\n",
    "    model_label_map = {0: \"contradiction\", 1: \"neutral\", 2: \"entailment\"}\n",
    "    # Original label mapping from the dataset\n",
    "    original_label_map = {0: \"entailment\", 1: \"neutral\", 2: \"contradiction\"}\n",
    "    \n",
    "    progress_bar = tqdm(enumerate(dataloader), total=len(dataloader), desc=\"Evaluating\")\n",
    "    \n",
    "    with torch.no_grad():\n",
    "        for batch_idx, batch in progress_bar:\n",
    "            inputs = {\n",
    "                'input_ids': batch['input_ids'].to(device),\n",
    "                'attention_mask': batch['attention_mask'].to(device),\n",
    "            }\n",
    "            labels = batch['labels'].to(device)\n",
    "            \n",
    "            outputs = model(**inputs)\n",
    "            logits = outputs.logits\n",
    "            \n",
    "            batch_preds = torch.argmax(logits, dim=-1)\n",
    "            \n",
    "            all_predictions.extend(batch_preds.cpu().numpy())\n",
    "            all_labels.extend(labels.cpu().numpy())\n",
    "            \n",
    "            # Calculate live metrics\n",
    "            current_accuracy = accuracy_score(all_labels, all_predictions)\n",
    "            current_f1 = f1_score(all_labels, all_predictions, average='weighted')\n",
    "            \n",
    "            progress_bar.set_postfix({'Accuracy': f'{current_accuracy:.4f}', 'F1': f'{current_f1:.4f}'})\n",
    "            \n",
    "            # Print examples for the first batch\n",
    "            if batch_idx == 0:\n",
    "                for j in range(min(10, len(batch['input_ids']))):\n",
    "                    idx = batch_idx * dataloader.batch_size + j\n",
    "                    if idx < len(original_dataset):\n",
    "                        premise = original_dataset[idx]['premise']\n",
    "                        hypothesis = original_dataset[idx]['hypothesis']\n",
    "                        true_label_idx = original_dataset[idx]['label']\n",
    "                        true_label = original_label_map[true_label_idx]\n",
    "                        pred_label = model_label_map[batch_preds[j].item()]\n",
    "                        \n",
    "                        print(f\"\\nExample {idx + 1}:\")\n",
    "                        print(f\"Premise: {premise}\")\n",
    "                        print(f\"Hypothesis: {hypothesis}\")\n",
    "                        print(f\"True label: {true_label}\")\n",
    "                        print(f\"Predicted label: {pred_label}\")\n",
    "                        print(f\"Logits: {logits[j].cpu().tolist()}\")\n",
    "                        print(\"-\" * 50)\n",
    "    \n",
    "    # Calculate final metrics\n",
    "    accuracy = accuracy_score(all_labels, all_predictions)\n",
    "    f1_macro = f1_score(all_labels, all_predictions, average='macro')\n",
    "    f1_weighted = f1_score(all_labels, all_predictions, average='weighted')\n",
    "    \n",
    "    print(f\"\\nFinal Results:\")\n",
    "    print(f\"Accuracy: {accuracy:.4f}\")\n",
    "    print(f\"F1 Score (Macro): {f1_macro:.4f}\")\n",
    "    print(f\"F1 Score (Weighted): {f1_weighted:.4f}\")\n",
    "    \n",
    "    return all_predictions, all_labels\n"
   ]
  },
  {
   "cell_type": "code",
   "execution_count": 9,
   "metadata": {},
   "outputs": [
    {
     "name": "stderr",
     "output_type": "stream",
     "text": [
      "Evaluating:   0%|          | 1/614 [00:00<05:44,  1.78it/s, Accuracy=0.3125, F1=0.2183]"
     ]
    },
    {
     "name": "stdout",
     "output_type": "stream",
     "text": [
      "\n",
      "Example 1:\n",
      "Premise: This church choir sings to the masses as they sing joyous songs from the book at a church.\n",
      "Hypothesis: The church has cracks in the ceiling.\n",
      "True label: neutral\n",
      "Predicted label: neutral\n",
      "Logits: [-2.01851224899292, 1.4139621257781982, 0.16675660014152527]\n",
      "--------------------------------------------------\n",
      "\n",
      "Example 2:\n",
      "Premise: This church choir sings to the masses as they sing joyous songs from the book at a church.\n",
      "Hypothesis: The church is filled with song.\n",
      "True label: entailment\n",
      "Predicted label: neutral\n",
      "Logits: [-2.6061532497406006, 1.7127623558044434, 0.39824020862579346]\n",
      "--------------------------------------------------\n",
      "\n",
      "Example 3:\n",
      "Premise: This church choir sings to the masses as they sing joyous songs from the book at a church.\n",
      "Hypothesis: A choir singing at a baseball game.\n",
      "True label: contradiction\n",
      "Predicted label: neutral\n",
      "Logits: [-1.0215656757354736, 0.5620294213294983, 0.12043172121047974]\n",
      "--------------------------------------------------\n",
      "\n",
      "Example 4:\n",
      "Premise: A woman with a green headscarf, blue shirt and a very big grin.\n",
      "Hypothesis: The woman is young.\n",
      "True label: neutral\n",
      "Predicted label: neutral\n",
      "Logits: [-2.1208817958831787, 1.3074744939804077, 0.43011274933815]\n",
      "--------------------------------------------------\n",
      "\n",
      "Example 5:\n",
      "Premise: A woman with a green headscarf, blue shirt and a very big grin.\n",
      "Hypothesis: The woman is very happy.\n",
      "True label: entailment\n",
      "Predicted label: neutral\n",
      "Logits: [-2.545792579650879, 1.2483086585998535, 0.9042961001396179]\n",
      "--------------------------------------------------\n",
      "\n",
      "Example 6:\n",
      "Premise: A woman with a green headscarf, blue shirt and a very big grin.\n",
      "Hypothesis: The woman has been shot.\n",
      "True label: contradiction\n",
      "Predicted label: neutral\n",
      "Logits: [-2.1576175689697266, 0.8689361810684204, 0.7424519062042236]\n",
      "--------------------------------------------------\n",
      "\n",
      "Example 7:\n",
      "Premise: An old man with a package poses in front of an advertisement.\n",
      "Hypothesis: A man poses in front of an ad.\n",
      "True label: entailment\n",
      "Predicted label: neutral\n",
      "Logits: [-0.17613963782787323, 1.0080617666244507, -0.9895497560501099]\n",
      "--------------------------------------------------\n",
      "\n",
      "Example 8:\n",
      "Premise: An old man with a package poses in front of an advertisement.\n",
      "Hypothesis: A man poses in front of an ad for beer.\n",
      "True label: neutral\n",
      "Predicted label: neutral\n",
      "Logits: [0.2984682321548462, 0.32585304975509644, -0.8590089678764343]\n",
      "--------------------------------------------------\n",
      "\n",
      "Example 9:\n",
      "Premise: An old man with a package poses in front of an advertisement.\n",
      "Hypothesis: A man walks by an ad.\n",
      "True label: contradiction\n",
      "Predicted label: neutral\n",
      "Logits: [-0.028920792043209076, 0.8094008564949036, -0.9579291939735413]\n",
      "--------------------------------------------------\n",
      "\n",
      "Example 10:\n",
      "Premise: A statue at a museum that no seems to be looking at.\n",
      "Hypothesis: The statue is offensive and people are mad that it is on display.\n",
      "True label: neutral\n",
      "Predicted label: neutral\n",
      "Logits: [-2.0275917053222656, 1.0841280221939087, 0.6360284090042114]\n",
      "--------------------------------------------------\n"
     ]
    },
    {
     "name": "stderr",
     "output_type": "stream",
     "text": [
      "Evaluating:  37%|███▋      | 225/614 [01:27<02:31,  2.56it/s, Accuracy=0.3689, F1=0.3111]\n"
     ]
    },
    {
     "ename": "KeyboardInterrupt",
     "evalue": "",
     "output_type": "error",
     "traceback": [
      "\u001b[1;31m---------------------------------------------------------------------------\u001b[0m",
      "\u001b[1;31mKeyboardInterrupt\u001b[0m                         Traceback (most recent call last)",
      "Cell \u001b[1;32mIn[9], line 2\u001b[0m\n\u001b[0;32m      1\u001b[0m \u001b[38;5;66;03m# Run evaluation\u001b[39;00m\n\u001b[1;32m----> 2\u001b[0m predictions, true_labels \u001b[38;5;241m=\u001b[39m \u001b[43mevaluate\u001b[49m\u001b[43m(\u001b[49m\u001b[43mmodel\u001b[49m\u001b[43m,\u001b[49m\u001b[43m \u001b[49m\u001b[43mtest_dataloader\u001b[49m\u001b[43m,\u001b[49m\u001b[43m \u001b[49m\u001b[43mds\u001b[49m\u001b[43m[\u001b[49m\u001b[38;5;124;43m\"\u001b[39;49m\u001b[38;5;124;43mtest\u001b[39;49m\u001b[38;5;124;43m\"\u001b[39;49m\u001b[43m]\u001b[49m\u001b[43m)\u001b[49m\n",
      "Cell \u001b[1;32mIn[8], line 29\u001b[0m, in \u001b[0;36mevaluate\u001b[1;34m(model, dataloader, original_dataset)\u001b[0m\n\u001b[0;32m     25\u001b[0m logits \u001b[38;5;241m=\u001b[39m outputs\u001b[38;5;241m.\u001b[39mlogits\n\u001b[0;32m     27\u001b[0m batch_preds \u001b[38;5;241m=\u001b[39m torch\u001b[38;5;241m.\u001b[39margmax(logits, dim\u001b[38;5;241m=\u001b[39m\u001b[38;5;241m-\u001b[39m\u001b[38;5;241m1\u001b[39m)\n\u001b[1;32m---> 29\u001b[0m all_predictions\u001b[38;5;241m.\u001b[39mextend(\u001b[43mbatch_preds\u001b[49m\u001b[38;5;241;43m.\u001b[39;49m\u001b[43mcpu\u001b[49m\u001b[43m(\u001b[49m\u001b[43m)\u001b[49m\u001b[38;5;241m.\u001b[39mnumpy())\n\u001b[0;32m     30\u001b[0m all_labels\u001b[38;5;241m.\u001b[39mextend(labels\u001b[38;5;241m.\u001b[39mcpu()\u001b[38;5;241m.\u001b[39mnumpy())\n\u001b[0;32m     32\u001b[0m \u001b[38;5;66;03m# Calculate live metrics\u001b[39;00m\n",
      "\u001b[1;31mKeyboardInterrupt\u001b[0m: "
     ]
    }
   ],
   "source": [
    "# Run evaluation\n",
    "predictions, true_labels = evaluate(model, test_dataloader, ds[\"test\"])"
   ]
  },
  {
   "cell_type": "code",
   "execution_count": 11,
   "metadata": {},
   "outputs": [
    {
     "name": "stdout",
     "output_type": "stream",
     "text": [
      "dict_keys(['input_ids', 'token_type_ids', 'attention_mask'])\n"
     ]
    }
   ],
   "source": [
    "print(model)"
   ]
  },
  {
   "cell_type": "code",
   "execution_count": null,
   "metadata": {},
   "outputs": [],
   "source": [
    "print(model.config)\n"
   ]
  },
  {
   "cell_type": "code",
   "execution_count": null,
   "metadata": {},
   "outputs": [],
   "source": []
  }
 ],
 "metadata": {
  "kernelspec": {
   "display_name": "Python 3",
   "language": "python",
   "name": "python3"
  },
  "language_info": {
   "codemirror_mode": {
    "name": "ipython",
    "version": 3
   },
   "file_extension": ".py",
   "mimetype": "text/x-python",
   "name": "python",
   "nbconvert_exporter": "python",
   "pygments_lexer": "ipython3",
   "version": "3.9.7"
  }
 },
 "nbformat": 4,
 "nbformat_minor": 2
}
